{
 "cells": [
  {
   "cell_type": "markdown",
   "metadata": {},
   "source": [
    "funkcja która jako argument dostaje wartości parametrów a wyrzuca ocenę klasyfikatora\n"
   ]
  },
  {
   "cell_type": "code",
   "execution_count": 16,
   "metadata": {},
   "outputs": [],
   "source": [
    "def quality_for_given_n_mfcc (n_mfcc=20, train_size=40, test_size=10, k=5):\n",
    "    # 1. Ekstrakcja cech z próbek\n",
    "    classes = []\n",
    "    class_size = 100 # użyjemy tylko po kilka danych\n",
    "    samples = []\n",
    "    labels = []\n",
    "\n",
    "    for command in commands:\n",
    "        classes.append(command)\n",
    "        sample_num = 0\n",
    "        for file in os.listdir(train_audio_path + '/' + command + '/'):\n",
    "            sample_num += 1\n",
    "            y, sr = librosa.load(train_audio_path + '/' + command + '/' + file)\n",
    "            mfcc_seq = librosa.feature.mfcc(y = y, sr = sr, n_mfcc = n_mfcc)\n",
    "            mean_mfcc_seq = []\n",
    "            for feature in mfcc_seq:\n",
    "                mean_mfcc_seq.append(numpy.mean(feature))\n",
    "            samples.append(mean_mfcc_seq)\n",
    "            labels.append(command)\n",
    "            if sample_num == class_size:\n",
    "                break\n",
    "    \n",
    "    # 2. Wybór danych treningowych i testowych\n",
    "\n",
    "    train_samples = []\n",
    "    train_labels = []\n",
    "    test_samples = []\n",
    "    test_labels = []\n",
    "    for classname in classes:\n",
    "        train_size_index = 0\n",
    "        test_size_index = 0\n",
    "        for i in range(len(labels)):\n",
    "            if labels[i] == classname and train_size_index < train_size:\n",
    "                train_samples.append(samples[i])\n",
    "                train_labels.append(labels[i])\n",
    "                train_size_index += 1\n",
    "            elif labels[i] == classname and test_size_index < test_size:\n",
    "                test_samples.append(samples[i])\n",
    "                test_labels.append(labels[i])\n",
    "                test_size_index += 1\n",
    "            if train_size_index == train_size and test_size_index == test_size:\n",
    "                break\n",
    "    \n",
    "    # 3. Uczenie klasyfikatora danymi treningowymi\n",
    "    # skalowanie/normalizacja danych\n",
    "    from sklearn.preprocessing import StandardScaler\n",
    "    scaler = StandardScaler()\n",
    "    scaler.fit(train_samples)\n",
    "    train_samples = scaler.transform(train_samples)\n",
    "    test_samples = scaler.transform(test_samples)\n",
    "\n",
    "    # uczenie\n",
    "    from sklearn.neighbors import KNeighborsClassifier\n",
    "    classifier = KNeighborsClassifier(n_neighbors = k)\n",
    "    classifier.fit(train_samples, train_labels)\n",
    "    \n",
    "    # 4. Klasyfikacja nieznanych próbek\n",
    "    predicted_labels = classifier.predict(test_samples)\n",
    "    \n",
    "    # 5. Ocena klasyfikatora\n",
    "    quality = numpy.sum(test_labels == predicted_labels) / len(test_labels) * 100;\n",
    "    \n",
    "    return quality\n",
    "    "
   ]
  },
  {
   "cell_type": "code",
   "execution_count": 1,
   "metadata": {},
   "outputs": [],
   "source": [
    "# import bibliotek\n",
    "import os\n",
    "import librosa\n",
    "import pickle\n",
    "import sklearn\n",
    "import numpy\n",
    "\n",
    "# ścieżka z folderami z nagraniami - próbki:\n",
    "train_audio_path = 'input/speech_commands_v0.01'\n",
    "commands = os.listdir(train_audio_path) \n",
    "commands=commands[1:15]\n"
   ]
  },
  {
   "cell_type": "markdown",
   "metadata": {},
   "source": [
    "1. Znalezienie optymalnej wartości parametru n_mfcc"
   ]
  },
  {
   "cell_type": "code",
   "execution_count": 8,
   "metadata": {},
   "outputs": [
    {
     "name": "stdout",
     "output_type": "stream",
     "text": [
      "Dla n_mfcc= 1 Ocena klasyfikatora: 1.43 %\n",
      "Dla n_mfcc= 2 Ocena klasyfikatora: 4.29 %\n",
      "Dla n_mfcc= 3 Ocena klasyfikatora: 11.43 %\n",
      "Dla n_mfcc= 4 Ocena klasyfikatora: 8.57 %\n",
      "Dla n_mfcc= 5 Ocena klasyfikatora: 17.14 %\n",
      "Dla n_mfcc= 6 Ocena klasyfikatora: 17.14 %\n",
      "Dla n_mfcc= 7 Ocena klasyfikatora: 17.14 %\n",
      "Dla n_mfcc= 8 Ocena klasyfikatora: 17.14 %\n",
      "Dla n_mfcc= 9 Ocena klasyfikatora: 12.86 %\n",
      "Dla n_mfcc= 10 Ocena klasyfikatora: 12.86 %\n",
      "Dla n_mfcc= 11 Ocena klasyfikatora: 15.71 %\n",
      "Dla n_mfcc= 12 Ocena klasyfikatora: 15.71 %\n",
      "Dla n_mfcc= 13 Ocena klasyfikatora: 12.86 %\n",
      "Dla n_mfcc= 14 Ocena klasyfikatora: 14.29 %\n",
      "Dla n_mfcc= 15 Ocena klasyfikatora: 17.14 %\n",
      "Dla n_mfcc= 16 Ocena klasyfikatora: 12.86 %\n",
      "Dla n_mfcc= 17 Ocena klasyfikatora: 17.14 %\n",
      "Dla n_mfcc= 18 Ocena klasyfikatora: 17.14 %\n",
      "Dla n_mfcc= 19 Ocena klasyfikatora: 18.57 %\n",
      "Dla n_mfcc= 20 Ocena klasyfikatora: 20.00 %\n",
      "Dla n_mfcc= 21 Ocena klasyfikatora: 18.57 %\n",
      "Dla n_mfcc= 22 Ocena klasyfikatora: 15.71 %\n",
      "Dla n_mfcc= 23 Ocena klasyfikatora: 18.57 %\n",
      "Dla n_mfcc= 24 Ocena klasyfikatora: 18.57 %\n",
      "Dla n_mfcc= 25 Ocena klasyfikatora: 15.71 %\n",
      "Dla n_mfcc= 26 Ocena klasyfikatora: 18.57 %\n",
      "Dla n_mfcc= 27 Ocena klasyfikatora: 14.29 %\n",
      "Dla n_mfcc= 28 Ocena klasyfikatora: 11.43 %\n",
      "Dla n_mfcc= 29 Ocena klasyfikatora: 12.86 %\n",
      "Dla n_mfcc= 30 Ocena klasyfikatora: 12.86 %\n",
      "Dla n_mfcc= 31 Ocena klasyfikatora: 10.00 %\n",
      "Dla n_mfcc= 32 Ocena klasyfikatora: 15.71 %\n",
      "Dla n_mfcc= 33 Ocena klasyfikatora: 14.29 %\n",
      "Dla n_mfcc= 34 Ocena klasyfikatora: 18.57 %\n",
      "Dla n_mfcc= 35 Ocena klasyfikatora: 15.71 %\n",
      "Dla n_mfcc= 36 Ocena klasyfikatora: 15.71 %\n",
      "Dla n_mfcc= 37 Ocena klasyfikatora: 17.14 %\n",
      "Dla n_mfcc= 38 Ocena klasyfikatora: 11.43 %\n",
      "Dla n_mfcc= 39 Ocena klasyfikatora: 14.29 %\n",
      "Dla n_mfcc= 40 Ocena klasyfikatora: 17.14 %\n",
      "Dla n_mfcc= 41 Ocena klasyfikatora: 14.29 %\n",
      "Dla n_mfcc= 42 Ocena klasyfikatora: 14.29 %\n",
      "Dla n_mfcc= 43 Ocena klasyfikatora: 11.43 %\n",
      "Dla n_mfcc= 44 Ocena klasyfikatora: 8.57 %\n",
      "Dla n_mfcc= 45 Ocena klasyfikatora: 8.57 %\n",
      "Dla n_mfcc= 46 Ocena klasyfikatora: 8.57 %\n",
      "Dla n_mfcc= 47 Ocena klasyfikatora: 5.71 %\n",
      "Dla n_mfcc= 48 Ocena klasyfikatora: 7.14 %\n",
      "Dla n_mfcc= 49 Ocena klasyfikatora: 5.71 %\n",
      "Dla n_mfcc= 50 Ocena klasyfikatora: 7.14 %\n",
      "Dla n_mfcc= 51 Ocena klasyfikatora: 10.00 %\n",
      "Dla n_mfcc= 52 Ocena klasyfikatora: 10.00 %\n",
      "Dla n_mfcc= 53 Ocena klasyfikatora: 11.43 %\n",
      "Dla n_mfcc= 54 Ocena klasyfikatora: 10.00 %\n",
      "Dla n_mfcc= 55 Ocena klasyfikatora: 12.86 %\n",
      "Dla n_mfcc= 56 Ocena klasyfikatora: 7.14 %\n",
      "Dla n_mfcc= 57 Ocena klasyfikatora: 7.14 %\n",
      "Dla n_mfcc= 58 Ocena klasyfikatora: 11.43 %\n",
      "Dla n_mfcc= 59 Ocena klasyfikatora: 10.00 %\n",
      "Dla n_mfcc= 60 Ocena klasyfikatora: 7.14 %\n",
      "Dla n_mfcc= 61 Ocena klasyfikatora: 10.00 %\n",
      "Dla n_mfcc= 62 Ocena klasyfikatora: 12.86 %\n",
      "Dla n_mfcc= 63 Ocena klasyfikatora: 10.00 %\n",
      "Dla n_mfcc= 64 Ocena klasyfikatora: 8.57 %\n",
      "Dla n_mfcc= 65 Ocena klasyfikatora: 10.00 %\n",
      "Dla n_mfcc= 66 Ocena klasyfikatora: 8.57 %\n",
      "Dla n_mfcc= 67 Ocena klasyfikatora: 8.57 %\n",
      "Dla n_mfcc= 68 Ocena klasyfikatora: 8.57 %\n",
      "Dla n_mfcc= 69 Ocena klasyfikatora: 8.57 %\n",
      "Dla n_mfcc= 70 Ocena klasyfikatora: 10.00 %\n",
      "Dla n_mfcc= 71 Ocena klasyfikatora: 11.43 %\n",
      "Dla n_mfcc= 72 Ocena klasyfikatora: 12.86 %\n",
      "Dla n_mfcc= 73 Ocena klasyfikatora: 12.86 %\n",
      "Dla n_mfcc= 74 Ocena klasyfikatora: 15.71 %\n",
      "Dla n_mfcc= 75 Ocena klasyfikatora: 15.71 %\n",
      "Dla n_mfcc= 76 Ocena klasyfikatora: 15.71 %\n",
      "Dla n_mfcc= 77 Ocena klasyfikatora: 15.71 %\n",
      "Dla n_mfcc= 78 Ocena klasyfikatora: 17.14 %\n",
      "Dla n_mfcc= 79 Ocena klasyfikatora: 17.14 %\n",
      "Dla n_mfcc= 80 Ocena klasyfikatora: 15.71 %\n",
      "Dla n_mfcc= 81 Ocena klasyfikatora: 15.71 %\n",
      "Dla n_mfcc= 82 Ocena klasyfikatora: 15.71 %\n",
      "Dla n_mfcc= 83 Ocena klasyfikatora: 15.71 %\n",
      "Dla n_mfcc= 84 Ocena klasyfikatora: 12.86 %\n",
      "Dla n_mfcc= 85 Ocena klasyfikatora: 11.43 %\n",
      "Dla n_mfcc= 86 Ocena klasyfikatora: 10.00 %\n",
      "Dla n_mfcc= 87 Ocena klasyfikatora: 11.43 %\n",
      "Dla n_mfcc= 88 Ocena klasyfikatora: 11.43 %\n",
      "Dla n_mfcc= 89 Ocena klasyfikatora: 11.43 %\n",
      "Dla n_mfcc= 90 Ocena klasyfikatora: 15.71 %\n",
      "Dla n_mfcc= 91 Ocena klasyfikatora: 15.71 %\n",
      "Dla n_mfcc= 92 Ocena klasyfikatora: 15.71 %\n",
      "Dla n_mfcc= 93 Ocena klasyfikatora: 14.29 %\n",
      "Dla n_mfcc= 94 Ocena klasyfikatora: 15.71 %\n",
      "Dla n_mfcc= 95 Ocena klasyfikatora: 15.71 %\n",
      "Dla n_mfcc= 96 Ocena klasyfikatora: 17.14 %\n",
      "Dla n_mfcc= 97 Ocena klasyfikatora: 17.14 %\n",
      "Dla n_mfcc= 98 Ocena klasyfikatora: 18.57 %\n",
      "Dla n_mfcc= 99 Ocena klasyfikatora: 15.71 %\n"
     ]
    }
   ],
   "source": [
    "n_mfcc_values=[]\n",
    "qualities=[]\n",
    "for i in range (1, 100):\n",
    "    quality = quality_for_given_n_mfcc(n_mfcc=i, train_size=40, test_size=10, k=5)\n",
    "    n_mfcc_values.append(i)\n",
    "    qualities.append(quality)\n",
    "    print('Dla n_mfc c= %d Ocena klasyfikatora: %.2f %%' % (i, quality))"
   ]
  },
  {
   "cell_type": "markdown",
   "metadata": {},
   "source": [
    "Optymalna wartość n_mfcc:"
   ]
  },
  {
   "cell_type": "code",
   "execution_count": 17,
   "metadata": {},
   "outputs": [
    {
     "name": "stdout",
     "output_type": "stream",
     "text": [
      "20\n"
     ]
    }
   ],
   "source": [
    "n_mfcc_optimal = n_mfcc_values[qualities.index(max(qualities))]\n",
    "print(n_mfcc_optimal)"
   ]
  },
  {
   "cell_type": "markdown",
   "metadata": {},
   "source": [
    "2. Znalezienie optymalnej wartości train size"
   ]
  },
  {
   "cell_type": "code",
   "execution_count": null,
   "metadata": {},
   "outputs": [],
   "source": [
    "train_size_values=[]\n",
    "qualities_train=[]\n",
    "for i in range (1, 90):\n",
    "    quality = quality_for_given_n_mfcc(n_mfcc=n_mfcc_optimal, train_size=i, test_size=10, k=5)\n",
    "    train_size_values.append(i)\n",
    "    qualities_train.append(quality)\n",
    "    print('Dla train_size = %d Ocena klasyfikatora: %.2f %%' % (i, quality))"
   ]
  },
  {
   "cell_type": "markdown",
   "metadata": {},
   "source": [
    "Optymalna wartość train_size:"
   ]
  },
  {
   "cell_type": "code",
   "execution_count": null,
   "metadata": {},
   "outputs": [],
   "source": [
    "train_size_optimal = train_size_values[qualities_train.index(max(qualities_train))]\n",
    "print(test_size_optimal)"
   ]
  },
  {
   "cell_type": "markdown",
   "metadata": {},
   "source": [
    "3. Znalezienie optymalnej wartości k"
   ]
  },
  {
   "cell_type": "code",
   "execution_count": null,
   "metadata": {},
   "outputs": [],
   "source": [
    "k_values=[]\n",
    "qualities_k=[]\n",
    "for i in range (1,11):\n",
    "    quality = quality_for_given_n_mfcc(n_mfcc=n_mfcc_optimal, train_size=train_size_optimal, test_size=10, k=i)\n",
    "    k_values.append(i)\n",
    "    qualities_k.append(quality)\n",
    "    print('Dla k = %d Ocena klasyfikatora: %.2f %%' % (i, quality))"
   ]
  },
  {
   "cell_type": "markdown",
   "metadata": {},
   "source": [
    "Optymalna wartość k :"
   ]
  },
  {
   "cell_type": "code",
   "execution_count": null,
   "metadata": {},
   "outputs": [],
   "source": [
    "k_optimal = k_values[qualities_k.index(max(qualities_k))]\n",
    "print(k_optimal)"
   ]
  }
 ],
 "metadata": {
  "kernelspec": {
   "display_name": "Python 3",
   "language": "python",
   "name": "python3"
  },
  "language_info": {
   "codemirror_mode": {
    "name": "ipython",
    "version": 3
   },
   "file_extension": ".py",
   "mimetype": "text/x-python",
   "name": "python",
   "nbconvert_exporter": "python",
   "pygments_lexer": "ipython3",
   "version": "3.6.13"
  }
 },
 "nbformat": 4,
 "nbformat_minor": 4
}
