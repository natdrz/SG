{
 "cells": [
  {
   "cell_type": "markdown",
   "metadata": {},
   "source": [
    "Celem ćwiczenia jest prezentacja możliwości wykorzystania metod uczenia maszynowego\n",
    "w rozpoznawaniu komend głosowych.\n",
    "\n",
    "Materiałem użytym w ćwiczeniu będą próbki nagrań komend z poprzednich ćwiczeń.\n",
    "Przypomnijmy, w zbiorze jest:\n",
    "- 30 (+szum) komend,\n",
    "- nagranych ok. 1,7-2,4 tys. razy.\n",
    "\n",
    "Treścią zadania jest klasyfikacja komend:\n",
    "- klasa (class) = komenda,\n",
    "- próbka (sample) = nagranie.\n",
    "\n",
    "Ćwiczenie podzielone jest na cztery etapy:\n",
    "1. Ekstrakcja cech z próbek\n",
    "2. Podział próbek na treningowe i testowe\n",
    "3. Uczenie klasyfikatora\n",
    "4. Klasyfikacja nieznanej próbki\n",
    "5. Ocena działania klasyfikatora\n"
   ]
  },
  {
   "cell_type": "code",
   "execution_count": 20,
   "metadata": {},
   "outputs": [],
   "source": [
    "# import bibliotek\n",
    "import os\n",
    "import librosa\n",
    "import pickle\n",
    "import sklearn\n",
    "import numpy"
   ]
  },
  {
   "cell_type": "markdown",
   "metadata": {},
   "source": [
    "#### 1. Ekstrakcja cech z próbek\n",
    "Lista ekstraktorów cech: https://librosa.github.io/librosa/feature.html"
   ]
  },
  {
   "cell_type": "code",
   "execution_count": 21,
   "metadata": {},
   "outputs": [],
   "source": [
    "# ścieżka z folderami z nagraniami - próbki:\n",
    "train_audio_path = 'input/speech_commands_v0.01'\n",
    "commands = os.listdir(train_audio_path) \n",
    "commands=commands[1:31]\n"
   ]
  },
  {
   "cell_type": "code",
   "execution_count": 22,
   "metadata": {},
   "outputs": [
    {
     "name": "stdout",
     "output_type": "stream",
     "text": [
      "\n",
      "Class: bed, bird, cat, dog, down, eight, five, four, go, happy, house, left, marvin, nine, no, off, on, one, right, seven, sheila, six, stop, three, tree, two, up, wow, yes, zero, "
     ]
    }
   ],
   "source": [
    "# użyjemy MFCC, tj. Mel-frequency cepstral coefficients\n",
    "# jednym z parametrów jest liczba wyjściowych współczynników:\n",
    "n_mfcc = 40\n",
    "\n",
    "# wczytujemy każde nagranie, wykonujemy ekstrakcję i zapamiętujemy jej wynik\n",
    "classes = []\n",
    "class_size = 100 # użyjemy tylko po kilka danych\n",
    "samples = []\n",
    "labels = []\n",
    "print(\"\\nClass: \", end = '')\n",
    "\n",
    "for command in commands:\n",
    "    classes.append(command)\n",
    "    print(command, end = ', ')\n",
    "    sample_num = 0\n",
    "    for file in os.listdir(train_audio_path + '/' + command + '/'):\n",
    "        sample_num += 1\n",
    "        # przykład z MFCC:\n",
    "        # y - waveform, sr - sampling rate, n_mfcc - number of MFCCs to return\n",
    "        y, sr = librosa.load(train_audio_path + '/' + command + '/' + file)\n",
    "        mfcc_seq = librosa.feature.mfcc(y = y, sr = sr, n_mfcc = n_mfcc)\n",
    "        mean_mfcc_seq = []\n",
    "        for feature in mfcc_seq:\n",
    "            mean_mfcc_seq.append(numpy.mean(feature))\n",
    "        samples.append(mean_mfcc_seq)\n",
    "        labels.append(command)\n",
    "        if sample_num == class_size:\n",
    "            break\n",
    "\n",
    "# warto podglądnąć, dla mniejszych n_mfcc, np. 5 co kryje mfcc_seq i mean_mfcc_seq\n"
   ]
  },
  {
   "cell_type": "code",
   "execution_count": null,
   "metadata": {},
   "outputs": [],
   "source": [
    "# zapiszmy bazę do późniejszej pracy\n",
    "database = open('database.pkl', 'wb')\n",
    "pickle.dump([classes, samples, labels], database)\n",
    "database.close()\n",
    "        "
   ]
  },
  {
   "cell_type": "markdown",
   "metadata": {},
   "source": [
    "#### 2. Wybór danych treningowych i testowych\n"
   ]
  },
  {
   "cell_type": "code",
   "execution_count": null,
   "metadata": {},
   "outputs": [],
   "source": [
    "# Zautomatyzowany i losowy sposób to użycie:\n",
    "# \"from sklearn.model_selection import train_test_split\" oraz funkcji \"train_test_split()\"\n",
    "\n",
    "# wczytanie danych\n",
    "database = open('database.pkl', 'rb')\n",
    "classes, samples, labels = pickle.load(database)\n",
    "database.close()\n",
    "\n",
    "# wybierzmy 10 pierwszych próbek z każdej klasy jako uczące\n",
    "# oraz kolejne 2 z każdej klasy jako testowe\n",
    "# uwaga! train_size + test_size NIE może przekroczyć class_size (poprzedni punkt)\n",
    "train_size = 40\n",
    "test_size = 5\n",
    "train_samples = []\n",
    "train_labels = []\n",
    "test_samples = []\n",
    "test_labels = []\n",
    "for classname in classes:\n",
    "    train_size_index = 0\n",
    "    test_size_index = 0\n",
    "    for i in range(len(labels)):\n",
    "        if labels[i] == classname and train_size_index < train_size:\n",
    "            train_samples.append(samples[i])\n",
    "            train_labels.append(labels[i])\n",
    "            train_size_index += 1\n",
    "        elif labels[i] == classname and test_size_index < test_size:\n",
    "            test_samples.append(samples[i])\n",
    "            test_labels.append(labels[i])\n",
    "            test_size_index += 1\n",
    "        if train_size_index == train_size and test_size_index == test_size:\n",
    "            break\n",
    "            \n",
    "# proszę sprawdzić, czy dane zostały wybrane prawidłowo\n",
    "\n"
   ]
  },
  {
   "cell_type": "markdown",
   "metadata": {},
   "source": [
    "#### 3. Uczenie klasyfikatora danymi treningowymi\n",
    "\n",
    "Lista klasyfikatorów: https://stackabuse.com/overview-of-classification-methods-in-python-with-scikit-learn/\n",
    "\n",
    "Prosty tutorial: https://www.digitalocean.com/community/tutorials/how-to-build-a-machine-learning-classifier-in-python-with-scikit-learn"
   ]
  },
  {
   "cell_type": "code",
   "execution_count": null,
   "metadata": {},
   "outputs": [],
   "source": [
    "\n",
    "# skalowanie/normalizacja danych\n",
    "from sklearn.preprocessing import StandardScaler\n",
    "scaler = StandardScaler()\n",
    "scaler.fit(train_samples)\n",
    "train_samples = scaler.transform(train_samples)\n",
    "test_samples = scaler.transform(test_samples)\n",
    "\n",
    "# uczenie\n",
    "from sklearn.neighbors import KNeighborsClassifier\n",
    "k = 5\n",
    "classifier = KNeighborsClassifier(n_neighbors = k)\n",
    "classifier.fit(train_samples, train_labels)\n",
    "\n"
   ]
  },
  {
   "cell_type": "markdown",
   "metadata": {},
   "source": [
    "#### 4. Klasyfikacja nieznanych próbek"
   ]
  },
  {
   "cell_type": "code",
   "execution_count": null,
   "metadata": {},
   "outputs": [],
   "source": [
    "\n",
    "\n",
    "predicted_labels = classifier.predict(test_samples)\n",
    "    \n",
    "# zobaczmy wynik - zakomentować dla dużych zbiorów\n",
    "for i in range (len(test_labels)):\n",
    "    print(test_labels[i], predicted_labels[i])\n",
    "#print()\n",
    "\n"
   ]
  },
  {
   "cell_type": "code",
   "execution_count": null,
   "metadata": {},
   "outputs": [],
   "source": [
    "\n",
    "# 5. Ocena klasyfikatora\n",
    "# print(test_labels == predicted_labels)\n",
    "quality = numpy.sum(test_labels == predicted_labels) / len(test_labels) * 100;\n",
    "print('Ocena klasyfikatora: %.2f %%' % quality)"
   ]
  },
  {
   "cell_type": "code",
   "execution_count": null,
   "metadata": {},
   "outputs": [],
   "source": []
  },
  {
   "cell_type": "code",
   "execution_count": null,
   "metadata": {
    "jupyter": {
     "source_hidden": true
    }
   },
   "outputs": [],
   "source": []
  }
 ],
 "metadata": {
  "kernelspec": {
   "display_name": "Python 3",
   "language": "python",
   "name": "python3"
  },
  "language_info": {
   "codemirror_mode": {
    "name": "ipython",
    "version": 3
   },
   "file_extension": ".py",
   "mimetype": "text/x-python",
   "name": "python",
   "nbconvert_exporter": "python",
   "pygments_lexer": "ipython3",
   "version": "3.6.13"
  }
 },
 "nbformat": 4,
 "nbformat_minor": 4
}
